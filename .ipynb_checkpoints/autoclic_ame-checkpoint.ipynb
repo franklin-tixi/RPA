{
 "cells": [
  {
   "cell_type": "code",
   "execution_count": 1,
   "id": "6551ca89",
   "metadata": {
    "scrolled": true
   },
   "outputs": [],
   "source": [
    "from selenium import webdriver\n",
    "from selenium.webdriver.chrome.service import Service\n",
    "from webdriver_manager.chrome import ChromeDriverManager\n",
    "import time"
   ]
  },
  {
   "cell_type": "code",
   "execution_count": 2,
   "id": "eb8d6ed7",
   "metadata": {},
   "outputs": [],
   "source": [
    "driver = webdriver.Chrome(service=Service(ChromeDriverManager().install()))\n"
   ]
  },
  {
   "cell_type": "code",
   "execution_count": null,
   "id": "1d8e1be7",
   "metadata": {},
   "outputs": [
    {
     "name": "stdout",
     "output_type": "stream",
     "text": [
      "0 Cantidad de veces ejecutas\n"
     ]
    }
   ],
   "source": [
    "count = 10000\n",
    "\n",
    "for i in range(count):\n",
    "    #Ingresar a la pagina de google\n",
    "    driver.get('https://www.google.com/')\n",
    "\n",
    "    #Ingresar datos de la especialidad \n",
    "    driver.find_element(\"xpath\",'/html/body/div[1]/div[3]/form/div[1]/div[1]/div[1]/div/div[2]/input').send_keys('agenda medica ecuador otorrinolaringologia quito')\n",
    "    driver.find_element(\"xpath\",'/html/body/div[1]/div[4]').click()\n",
    "\n",
    "    # Dar clic en button de buscar de Google\n",
    "    driver.find_element(\"xpath\",'/html/body/div[1]/div[3]/form/div[1]/div[1]/div[3]/center/input[1]').click()\n",
    "    time.sleep(1)\n",
    "\n",
    "    # Dar clic en la pagina de Agenda Medica Ecuador en los resultados de busqueda\n",
    "    driver.find_element(\"xpath\",'//*[@id=\"rso\"]/div[1]/div/div/div[2]/ul/li/div/div/div/div[1]/div/a/h3').click()\n",
    "\n",
    "    # Ingresar el parametro de la especialidad para buscar\n",
    "    driver.find_element(\"xpath\",'//*[@id=\"__layout\"]/div/main/div/div/div/form/div[1]/div[1]/div[1]/div[2]/div/div/input').send_keys('Otorrinolaringología')\n",
    "    time.sleep(2)\n",
    "\n",
    "    # Seleccionar la especialidad de otorrinolaringologia\n",
    "    driver.find_element(\"xpath\",'//*[@id=\"listbox\"]/li[1]/span').click()\n",
    "\n",
    "    # Ingresar el parametro de la ciudad para buscar\n",
    "    driver.find_element(\"xpath\",'//*[@id=\"__layout\"]/div/main/div/div/div/form/div[1]/div[1]/div[2]/div[2]/div/div/input').send_keys('Quito')\n",
    "    time.sleep(2)\n",
    "\n",
    "    # Seleccionar la especialidad de otorrinolaringologia\n",
    "    driver.find_element(\"xpath\",'//*[@id=\"listbox\"]/li[1]/span').click()\n",
    "    print(i,'Cantidad de veces ejecutas')\n",
    "    time.sleep(5)\n",
    "\n",
    "\n",
    "\n"
   ]
  }
 ],
 "metadata": {
  "kernelspec": {
   "display_name": "Python 3 (ipykernel)",
   "language": "python",
   "name": "python3"
  },
  "language_info": {
   "codemirror_mode": {
    "name": "ipython",
    "version": 3
   },
   "file_extension": ".py",
   "mimetype": "text/x-python",
   "name": "python",
   "nbconvert_exporter": "python",
   "pygments_lexer": "ipython3",
   "version": "3.9.12"
  }
 },
 "nbformat": 4,
 "nbformat_minor": 5
}
