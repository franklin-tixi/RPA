{
 "cells": [
  {
   "cell_type": "code",
   "execution_count": 1,
   "id": "6551ca89",
   "metadata": {
    "scrolled": true
   },
   "outputs": [],
   "source": [
    "from selenium import webdriver\n",
    "from selenium.webdriver.chrome.service import Service\n",
    "from webdriver_manager.chrome import ChromeDriverManager\n",
    "import time"
   ]
  },
  {
   "cell_type": "code",
   "execution_count": 2,
   "id": "eb8d6ed7",
   "metadata": {},
   "outputs": [],
   "source": [
    "driver = webdriver.Chrome(service=Service(ChromeDriverManager().install()))\n"
   ]
  },
  {
   "cell_type": "code",
   "execution_count": 3,
   "id": "1d8e1be7",
   "metadata": {},
   "outputs": [
    {
     "name": "stdout",
     "output_type": "stream",
     "text": [
      "0 Cantidad de veces ejecutas\n",
      "1 Cantidad de veces ejecutas\n",
      "2 Cantidad de veces ejecutas\n",
      "3 Cantidad de veces ejecutas\n",
      "4 Cantidad de veces ejecutas\n",
      "5 Cantidad de veces ejecutas\n",
      "6 Cantidad de veces ejecutas\n",
      "7 Cantidad de veces ejecutas\n",
      "8 Cantidad de veces ejecutas\n",
      "9 Cantidad de veces ejecutas\n",
      "10 Cantidad de veces ejecutas\n",
      "11 Cantidad de veces ejecutas\n",
      "12 Cantidad de veces ejecutas\n",
      "13 Cantidad de veces ejecutas\n",
      "14 Cantidad de veces ejecutas\n",
      "15 Cantidad de veces ejecutas\n",
      "16 Cantidad de veces ejecutas\n",
      "17 Cantidad de veces ejecutas\n",
      "18 Cantidad de veces ejecutas\n"
     ]
    },
    {
     "ename": "NoSuchElementException",
     "evalue": "Message: no such element: Unable to locate element: {\"method\":\"xpath\",\"selector\":\"/html/body/div[1]/div[3]/form/div[1]/div[1]/div[1]/div/div[2]/input\"}\n  (Session info: chrome=104.0.5112.102)\nStacktrace:\nBacktrace:\n\tOrdinal0 [0x003378B3+2193587]\n\tOrdinal0 [0x002D0681+1771137]\n\tOrdinal0 [0x001E41A8+803240]\n\tOrdinal0 [0x002124A0+992416]\n\tOrdinal0 [0x0021273B+993083]\n\tOrdinal0 [0x0023F7C2+1177538]\n\tOrdinal0 [0x0022D7F4+1103860]\n\tOrdinal0 [0x0023DAE2+1170146]\n\tOrdinal0 [0x0022D5C6+1103302]\n\tOrdinal0 [0x002077E0+948192]\n\tOrdinal0 [0x002086E6+952038]\n\tGetHandleVerifier [0x005E0CB2+2738370]\n\tGetHandleVerifier [0x005D21B8+2678216]\n\tGetHandleVerifier [0x003C17AA+512954]\n\tGetHandleVerifier [0x003C0856+509030]\n\tOrdinal0 [0x002D743B+1799227]\n\tOrdinal0 [0x002DBB68+1817448]\n\tOrdinal0 [0x002DBC55+1817685]\n\tOrdinal0 [0x002E5230+1856048]\n\tBaseThreadInitThunk [0x7634FA29+25]\n\tRtlGetAppContainerNamedObjectPath [0x77517A9E+286]\n\tRtlGetAppContainerNamedObjectPath [0x77517A6E+238]\n",
     "output_type": "error",
     "traceback": [
      "\u001b[1;31m---------------------------------------------------------------------------\u001b[0m",
      "\u001b[1;31mNoSuchElementException\u001b[0m                    Traceback (most recent call last)",
      "Input \u001b[1;32mIn [3]\u001b[0m, in \u001b[0;36m<cell line: 3>\u001b[1;34m()\u001b[0m\n\u001b[0;32m      5\u001b[0m driver\u001b[38;5;241m.\u001b[39mget(\u001b[38;5;124m'\u001b[39m\u001b[38;5;124mhttps://www.google.com/\u001b[39m\u001b[38;5;124m'\u001b[39m)\n\u001b[0;32m      7\u001b[0m \u001b[38;5;66;03m#Ingresar datos de la especialidad \u001b[39;00m\n\u001b[1;32m----> 8\u001b[0m \u001b[43mdriver\u001b[49m\u001b[38;5;241;43m.\u001b[39;49m\u001b[43mfind_element\u001b[49m\u001b[43m(\u001b[49m\u001b[38;5;124;43m\"\u001b[39;49m\u001b[38;5;124;43mxpath\u001b[39;49m\u001b[38;5;124;43m\"\u001b[39;49m\u001b[43m,\u001b[49m\u001b[38;5;124;43m'\u001b[39;49m\u001b[38;5;124;43m/html/body/div[1]/div[3]/form/div[1]/div[1]/div[1]/div/div[2]/input\u001b[39;49m\u001b[38;5;124;43m'\u001b[39;49m\u001b[43m)\u001b[49m\u001b[38;5;241m.\u001b[39msend_keys(\u001b[38;5;124m'\u001b[39m\u001b[38;5;124magenda medica ecuador otorrinolaringologia quito\u001b[39m\u001b[38;5;124m'\u001b[39m)\n\u001b[0;32m      9\u001b[0m driver\u001b[38;5;241m.\u001b[39mfind_element(\u001b[38;5;124m\"\u001b[39m\u001b[38;5;124mxpath\u001b[39m\u001b[38;5;124m\"\u001b[39m,\u001b[38;5;124m'\u001b[39m\u001b[38;5;124m/html/body/div[1]/div[4]\u001b[39m\u001b[38;5;124m'\u001b[39m)\u001b[38;5;241m.\u001b[39mclick()\n\u001b[0;32m     11\u001b[0m \u001b[38;5;66;03m# Dar clic en button de buscar de Google\u001b[39;00m\n",
      "File \u001b[1;32m~\\AppData\\Roaming\\Python\\Python39\\site-packages\\selenium\\webdriver\\remote\\webdriver.py:855\u001b[0m, in \u001b[0;36mWebDriver.find_element\u001b[1;34m(self, by, value)\u001b[0m\n\u001b[0;32m    852\u001b[0m     by \u001b[38;5;241m=\u001b[39m By\u001b[38;5;241m.\u001b[39mCSS_SELECTOR\n\u001b[0;32m    853\u001b[0m     value \u001b[38;5;241m=\u001b[39m \u001b[38;5;124m'\u001b[39m\u001b[38;5;124m[name=\u001b[39m\u001b[38;5;124m\"\u001b[39m\u001b[38;5;132;01m%s\u001b[39;00m\u001b[38;5;124m\"\u001b[39m\u001b[38;5;124m]\u001b[39m\u001b[38;5;124m'\u001b[39m \u001b[38;5;241m%\u001b[39m value\n\u001b[1;32m--> 855\u001b[0m \u001b[38;5;28;01mreturn\u001b[39;00m \u001b[38;5;28;43mself\u001b[39;49m\u001b[38;5;241;43m.\u001b[39;49m\u001b[43mexecute\u001b[49m\u001b[43m(\u001b[49m\u001b[43mCommand\u001b[49m\u001b[38;5;241;43m.\u001b[39;49m\u001b[43mFIND_ELEMENT\u001b[49m\u001b[43m,\u001b[49m\u001b[43m \u001b[49m\u001b[43m{\u001b[49m\n\u001b[0;32m    856\u001b[0m \u001b[43m    \u001b[49m\u001b[38;5;124;43m'\u001b[39;49m\u001b[38;5;124;43musing\u001b[39;49m\u001b[38;5;124;43m'\u001b[39;49m\u001b[43m:\u001b[49m\u001b[43m \u001b[49m\u001b[43mby\u001b[49m\u001b[43m,\u001b[49m\n\u001b[0;32m    857\u001b[0m \u001b[43m    \u001b[49m\u001b[38;5;124;43m'\u001b[39;49m\u001b[38;5;124;43mvalue\u001b[39;49m\u001b[38;5;124;43m'\u001b[39;49m\u001b[43m:\u001b[49m\u001b[43m \u001b[49m\u001b[43mvalue\u001b[49m\u001b[43m}\u001b[49m\u001b[43m)\u001b[49m[\u001b[38;5;124m'\u001b[39m\u001b[38;5;124mvalue\u001b[39m\u001b[38;5;124m'\u001b[39m]\n",
      "File \u001b[1;32m~\\AppData\\Roaming\\Python\\Python39\\site-packages\\selenium\\webdriver\\remote\\webdriver.py:428\u001b[0m, in \u001b[0;36mWebDriver.execute\u001b[1;34m(self, driver_command, params)\u001b[0m\n\u001b[0;32m    426\u001b[0m response \u001b[38;5;241m=\u001b[39m \u001b[38;5;28mself\u001b[39m\u001b[38;5;241m.\u001b[39mcommand_executor\u001b[38;5;241m.\u001b[39mexecute(driver_command, params)\n\u001b[0;32m    427\u001b[0m \u001b[38;5;28;01mif\u001b[39;00m response:\n\u001b[1;32m--> 428\u001b[0m     \u001b[38;5;28;43mself\u001b[39;49m\u001b[38;5;241;43m.\u001b[39;49m\u001b[43merror_handler\u001b[49m\u001b[38;5;241;43m.\u001b[39;49m\u001b[43mcheck_response\u001b[49m\u001b[43m(\u001b[49m\u001b[43mresponse\u001b[49m\u001b[43m)\u001b[49m\n\u001b[0;32m    429\u001b[0m     response[\u001b[38;5;124m'\u001b[39m\u001b[38;5;124mvalue\u001b[39m\u001b[38;5;124m'\u001b[39m] \u001b[38;5;241m=\u001b[39m \u001b[38;5;28mself\u001b[39m\u001b[38;5;241m.\u001b[39m_unwrap_value(\n\u001b[0;32m    430\u001b[0m         response\u001b[38;5;241m.\u001b[39mget(\u001b[38;5;124m'\u001b[39m\u001b[38;5;124mvalue\u001b[39m\u001b[38;5;124m'\u001b[39m, \u001b[38;5;28;01mNone\u001b[39;00m))\n\u001b[0;32m    431\u001b[0m     \u001b[38;5;28;01mreturn\u001b[39;00m response\n",
      "File \u001b[1;32m~\\AppData\\Roaming\\Python\\Python39\\site-packages\\selenium\\webdriver\\remote\\errorhandler.py:243\u001b[0m, in \u001b[0;36mErrorHandler.check_response\u001b[1;34m(self, response)\u001b[0m\n\u001b[0;32m    241\u001b[0m         alert_text \u001b[38;5;241m=\u001b[39m value[\u001b[38;5;124m'\u001b[39m\u001b[38;5;124malert\u001b[39m\u001b[38;5;124m'\u001b[39m]\u001b[38;5;241m.\u001b[39mget(\u001b[38;5;124m'\u001b[39m\u001b[38;5;124mtext\u001b[39m\u001b[38;5;124m'\u001b[39m)\n\u001b[0;32m    242\u001b[0m     \u001b[38;5;28;01mraise\u001b[39;00m exception_class(message, screen, stacktrace, alert_text)  \u001b[38;5;66;03m# type: ignore[call-arg]  # mypy is not smart enough here\u001b[39;00m\n\u001b[1;32m--> 243\u001b[0m \u001b[38;5;28;01mraise\u001b[39;00m exception_class(message, screen, stacktrace)\n",
      "\u001b[1;31mNoSuchElementException\u001b[0m: Message: no such element: Unable to locate element: {\"method\":\"xpath\",\"selector\":\"/html/body/div[1]/div[3]/form/div[1]/div[1]/div[1]/div/div[2]/input\"}\n  (Session info: chrome=104.0.5112.102)\nStacktrace:\nBacktrace:\n\tOrdinal0 [0x003378B3+2193587]\n\tOrdinal0 [0x002D0681+1771137]\n\tOrdinal0 [0x001E41A8+803240]\n\tOrdinal0 [0x002124A0+992416]\n\tOrdinal0 [0x0021273B+993083]\n\tOrdinal0 [0x0023F7C2+1177538]\n\tOrdinal0 [0x0022D7F4+1103860]\n\tOrdinal0 [0x0023DAE2+1170146]\n\tOrdinal0 [0x0022D5C6+1103302]\n\tOrdinal0 [0x002077E0+948192]\n\tOrdinal0 [0x002086E6+952038]\n\tGetHandleVerifier [0x005E0CB2+2738370]\n\tGetHandleVerifier [0x005D21B8+2678216]\n\tGetHandleVerifier [0x003C17AA+512954]\n\tGetHandleVerifier [0x003C0856+509030]\n\tOrdinal0 [0x002D743B+1799227]\n\tOrdinal0 [0x002DBB68+1817448]\n\tOrdinal0 [0x002DBC55+1817685]\n\tOrdinal0 [0x002E5230+1856048]\n\tBaseThreadInitThunk [0x7634FA29+25]\n\tRtlGetAppContainerNamedObjectPath [0x77517A9E+286]\n\tRtlGetAppContainerNamedObjectPath [0x77517A6E+238]\n"
     ]
    }
   ],
   "source": [
    "count = 10000\n",
    "\n",
    "for i in range(count):\n",
    "    #Ingresar a la pagina de google\n",
    "    driver.get('https://www.google.com/')\n",
    "\n",
    "    #Ingresar datos de la especialidad \n",
    "    driver.find_element(\"xpath\",'/html/body/div[1]/div[3]/form/div[1]/div[1]/div[1]/div/div[2]/input').send_keys('agenda medica ecuador otorrinolaringologia quito')\n",
    "    driver.find_element(\"xpath\",'/html/body/div[1]/div[4]').click()\n",
    "\n",
    "    # Dar clic en button de buscar de Google\n",
    "    driver.find_element(\"xpath\",'/html/body/div[1]/div[3]/form/div[1]/div[1]/div[3]/center/input[1]').click()\n",
    "    time.sleep(1)\n",
    "\n",
    "    # Dar clic en la pagina de Agenda Medica Ecuador en los resultados de busqueda\n",
    "    driver.find_element(\"xpath\",'//*[@id=\"rso\"]/div[1]/div/div/div[2]/ul/li/div/div/div/div[1]/div/a/h3').click()\n",
    "\n",
    "    # Ingresar el parametro de la especialidad para buscar\n",
    "    driver.find_element(\"xpath\",'//*[@id=\"__layout\"]/div/main/div/div/div/form/div[1]/div[1]/div[1]/div[2]/div/div/input').send_keys('Otorrinolaringología')\n",
    "    time.sleep(2)\n",
    "\n",
    "    # Seleccionar la especialidad de otorrinolaringologia\n",
    "    driver.find_element(\"xpath\",'//*[@id=\"listbox\"]/li[1]/span').click()\n",
    "\n",
    "    # Ingresar el parametro de la ciudad para buscar\n",
    "    driver.find_element(\"xpath\",'//*[@id=\"__layout\"]/div/main/div/div/div/form/div[1]/div[1]/div[2]/div[2]/div/div/input').send_keys('Quito')\n",
    "    time.sleep(2)\n",
    "\n",
    "    # Seleccionar la especialidad de otorrinolaringologia\n",
    "    driver.find_element(\"xpath\",'//*[@id=\"listbox\"]/li[1]/span').click()\n",
    "    print(i,'Cantidad de veces ejecutas')\n",
    "    time.sleep(5)\n",
    "\n",
    "\n",
    "\n"
   ]
  }
 ],
 "metadata": {
  "kernelspec": {
   "display_name": "Python 3 (ipykernel)",
   "language": "python",
   "name": "python3"
  },
  "language_info": {
   "codemirror_mode": {
    "name": "ipython",
    "version": 3
   },
   "file_extension": ".py",
   "mimetype": "text/x-python",
   "name": "python",
   "nbconvert_exporter": "python",
   "pygments_lexer": "ipython3",
   "version": "3.9.12"
  }
 },
 "nbformat": 4,
 "nbformat_minor": 5
}
