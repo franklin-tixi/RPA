{
 "cells": [
  {
   "cell_type": "code",
   "execution_count": 3,
   "id": "cb76e6bb",
   "metadata": {},
   "outputs": [
    {
     "name": "stdout",
     "output_type": "stream",
     "text": [
      "{\"ok\":true,\"result\":{\"message_id\":17,\"from\":{\"id\":5560270829,\"is_bot\":true,\"first_name\":\"Notification-PegasoSolutions\",\"username\":\"UserNotify2022_bot\"},\"chat\":{\"id\":5312057626,\"first_name\":\"Pegaso\",\"last_name\":\"Solutions\",\"username\":\"PegasoSolutions\",\"type\":\"private\"},\"date\":1662519034,\"text\":\"Agenda Medica Ecuador - B\\u00fasqueda autom\\u00e1tica de m\\u00e9dicos. Error: por favor revisar Franklin-PC\"}}\n"
     ]
    }
   ],
   "source": [
    "#IMPORTS\n",
    "import requests\n",
    "import socket\n",
    "\n",
    "#CREDENTIALS\n",
    "idBot = '5560270829:AAEKwX2PGBR-AnVb3_nPYKBdnKR7Y2GA_tg'\n",
    "idGroup = '5312057626'\n",
    "hostName = socket.gethostname()\n",
    "\n",
    "#VARIABLES\n",
    "msgErrorWhatsapp = \"Agenda Medica Ecuador - Búsqueda automática de médicos. Error: \"\n",
    "\n",
    "#METHODS\n",
    "def sendMessage(msg):\n",
    "    r = requests.post('https://api.telegram.org/bot' + idBot + '/sendMessage',\n",
    "              data={'chat_id': idGroup, 'text': msg, 'parse_mode': 'HTML'})\n",
    "    #print(r.text)\n",
    "    \n",
    "sendMessage(msgErrorWhatsapp + hostName)\n"
   ]
  }
 ],
 "metadata": {
  "kernelspec": {
   "display_name": "Python 3 (ipykernel)",
   "language": "python",
   "name": "python3"
  },
  "language_info": {
   "codemirror_mode": {
    "name": "ipython",
    "version": 3
   },
   "file_extension": ".py",
   "mimetype": "text/x-python",
   "name": "python",
   "nbconvert_exporter": "python",
   "pygments_lexer": "ipython3",
   "version": "3.9.12"
  }
 },
 "nbformat": 4,
 "nbformat_minor": 5
}
