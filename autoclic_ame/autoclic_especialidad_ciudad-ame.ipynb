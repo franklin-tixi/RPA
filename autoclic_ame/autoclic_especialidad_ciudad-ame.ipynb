{
 "cells": [
  {
   "cell_type": "code",
   "execution_count": 1,
   "id": "6551ca89",
   "metadata": {
    "scrolled": true
   },
   "outputs": [],
   "source": [
    "# Import\n",
    "from selenium import webdriver\n",
    "from selenium.webdriver.chrome.service import Service\n",
    "from webdriver_manager.chrome import ChromeDriverManager\n",
    "import time\n",
    "import pandas as pd"
   ]
  },
  {
   "cell_type": "code",
   "execution_count": 2,
   "id": "eb8d6ed7",
   "metadata": {},
   "outputs": [],
   "source": [
    "# Import webdriver\n",
    "driver = webdriver.Chrome(service=Service(ChromeDriverManager().install()))\n"
   ]
  },
  {
   "cell_type": "code",
   "execution_count": 3,
   "id": "520daa09",
   "metadata": {},
   "outputs": [],
   "source": [
    "# Define specialty and city resource files\n",
    "dfSpecialties= pd.read_csv(r'C:\\Users\\Franklin\\Data Science\\python-selenium\\autoclic_ame\\specialties-01.csv')\n",
    "dfCities= pd.read_csv(r'C:\\Users\\Franklin\\Data Science\\python-selenium\\autoclic_ame\\cities-01.csv')"
   ]
  },
  {
   "cell_type": "code",
   "execution_count": 4,
   "id": "6334dfc0",
   "metadata": {},
   "outputs": [],
   "source": [
    "# Define count constant\n",
    "count = 10000"
   ]
  },
  {
   "cell_type": "code",
   "execution_count": null,
   "id": "feaf22e3",
   "metadata": {},
   "outputs": [
    {
     "name": "stdout",
     "output_type": "stream",
     "text": [
      "0  count\n",
      "cardiología - guayaquil\n",
      "cardiología - quito\n",
      "ginecología y obstetricia - guayaquil\n",
      "ginecología y obstetricia - quito\n",
      "otorrinolaringología - guayaquil\n",
      "otorrinolaringología - quito\n",
      "pediatría - guayaquil\n",
      "pediatría - quito\n",
      "1  count\n",
      "cardiología - guayaquil\n",
      "cardiología - quito\n"
     ]
    }
   ],
   "source": [
    "for i in range(count):\n",
    "    print (i, ' count')\n",
    "    for row, specialty in dfSpecialties.iterrows():\n",
    "        nameSpecialty = specialty['nombre'].lower()\n",
    "        for row, city in dfCities.iterrows():\n",
    "            nameCity = city['nombre'].lower()\n",
    "            \n",
    "            # Enter the google page\n",
    "            driver.get('https://www.google.com/')\n",
    "\n",
    "            # Enter specialty data\n",
    "            driver.find_element(\"xpath\",'/html/body/div[1]/div[3]/form/div[1]/div[1]/div[1]/div/div[2]/input').send_keys('agenda medica ecuador ', nameSpecialty, ' ', nameCity)\n",
    "            driver.find_element(\"xpath\",'/html/body/div[1]/div[4]').click()\n",
    "\n",
    "            # Click the Google search button\n",
    "            driver.find_element(\"xpath\",'/html/body/div[1]/div[3]/form/div[1]/div[1]/div[3]/center/input[1]').click()\n",
    "            \n",
    "\n",
    "            # Print Specialty and City\n",
    "            print(nameSpecialty, '-', nameCity)\n",
    "            \n",
    "            ############################################################# \n",
    "            #          CONDITIONAL TO SELECT SPECIALTY AND CITY         #\n",
    "            ############################################################# \n",
    "            \n",
    "            # cardiología-guayaquil\n",
    "            if nameSpecialty == 'cardiología' and nameCity == 'guayaquil':\n",
    "                driver.find_element(\"xpath\",'//*[@id=\"rso\"]/div[1]/div/div/div[2]/ul/li/div/div/div/div[1]/div/a/h3').click()\n",
    "\n",
    "            # cardiología-quito\n",
    "            if nameSpecialty == 'cardiología' and nameCity == 'quito':\n",
    "                driver.find_element(\"xpath\",'//*[@id=\"rso\"]/div[1]/div/div/div[2]/ul/li/div/div/div/div[1]/div/a/h3').click()\n",
    "            \n",
    "            # ginecología y obstetricia-guayaquil\n",
    "            if nameSpecialty == 'ginecología y obstetricia' and nameCity == 'guayaquil':\n",
    "                driver.find_element(\"xpath\",'//*[@id=\"rso\"]/div[1]/div/div/div[1]/div/div/div[1]/div/a/h3').click()\n",
    "            \n",
    "            # ginecología y obstetricia-quito\n",
    "            if nameSpecialty == 'ginecología y obstetricia' and nameCity == 'quito':\n",
    "                driver.find_element(\"xpath\",'//*[@id=\"rso\"]/div[1]/div/div/div[2]/ul/li/div/div/div/div[1]/div/a/h3').click()\n",
    "            \n",
    "            # otorrinolaringología-guayaquil\n",
    "            if nameSpecialty == 'otorrinolaringología' and nameCity == 'guayaquil':\n",
    "                driver.find_element(\"xpath\",'//*[@id=\"rso\"]/div[1]/div/div/div[1]/div/div/div[1]/div/a/h3').click()\n",
    "            \n",
    "            # otorrinolaringología-quito\n",
    "            if nameSpecialty == 'otorrinolaringología' and nameCity == 'quito':\n",
    "                driver.find_element(\"xpath\",'//*[@id=\"rso\"]/div[1]/div/div/div[2]/ul/li/div/div/div/div[1]/div/a/h3').click()\n",
    "            \n",
    "            # pediatría-guayaquil\n",
    "            if nameSpecialty == 'pediatría' and nameCity == 'guayaquil':\n",
    "                driver.find_element(\"xpath\",'//*[@id=\"rso\"]/div[1]/div/div/div[2]/ul/li/div/div/div/div[1]/div/a/div/cite').click()\n",
    "                \n",
    "            # pediatría-quito\n",
    "            if nameSpecialty == 'pediatría' and nameCity == 'quito':\n",
    "                driver.find_element(\"xpath\",'//*[@id=\"rso\"]/div[1]/div/div/div[2]/ul/li/div/div/div/div[1]/div/a/div/cite').click()\n",
    "            \n",
    "            ############################################################# \n",
    "            #                       CONDITIONAL END                     #\n",
    "            ############################################################# \n",
    "            \n",
    "            # Enter the parameter of the specialty to search\n",
    "            driver.find_element(\"xpath\",'//*[@id=\"__layout\"]/div/main/div/div/div/form/div[1]/div[1]/div[1]/div[2]/div/div/input').send_keys(nameSpecialty)\n",
    "            time.sleep(2)\n",
    "\n",
    "            # Select specialty\n",
    "            driver.find_element(\"xpath\",'//*[@id=\"listbox\"]/li[1]/span').click()\n",
    "\n",
    "            # Enter the parameter of the city to search\n",
    "            driver.find_element(\"xpath\",'//*[@id=\"__layout\"]/div/main/div/div/div/form/div[1]/div[1]/div[2]/div[2]/div/div/input').send_keys(nameCity)\n",
    "            time.sleep(2)\n",
    "\n",
    "            # Select city\n",
    "            driver.find_element(\"xpath\",'//*[@id=\"listbox\"]/li[1]/span').click()\n",
    "            time.sleep(10)\n",
    "\n",
    "    "
   ]
  }
 ],
 "metadata": {
  "kernelspec": {
   "display_name": "Python 3 (ipykernel)",
   "language": "python",
   "name": "python3"
  },
  "language_info": {
   "codemirror_mode": {
    "name": "ipython",
    "version": 3
   },
   "file_extension": ".py",
   "mimetype": "text/x-python",
   "name": "python",
   "nbconvert_exporter": "python",
   "pygments_lexer": "ipython3",
   "version": "3.9.12"
  }
 },
 "nbformat": 4,
 "nbformat_minor": 5
}
