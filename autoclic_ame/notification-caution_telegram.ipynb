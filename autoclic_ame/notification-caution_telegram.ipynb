{
 "cells": [
  {
   "cell_type": "code",
   "execution_count": 1,
   "id": "cb76e6bb",
   "metadata": {},
   "outputs": [],
   "source": [
    "#IMPORTS\n",
    "import requests\n",
    "import socket\n",
    "import sys\n",
    "\n",
    "#CREDENTIALS\n",
    "idBot = '5560270829:AAEKwX2PGBR-AnVb3_nPYKBdnKR7Y2GA_tg'\n",
    "idGroup = '5312057626'\n",
    "hostName = socket.gethostname()\n",
    "\n",
    "#VARIABLES\n",
    "msgErrorWhatsapp = \"Agenda Medica Ecuador - Búsqueda automática de médicos. Advertencia: \"\n",
    "\n",
    "#METHODS\n",
    "def sendMessage(msg):\n",
    "    r = requests.post('https://api.telegram.org/bot' + idBot + '/sendMessage',\n",
    "              data={'chat_id': idGroup, 'text': msg, 'parse_mode': 'HTML'})\n",
    "    #print(r.text)\n",
    "    \n",
    "sendMessage(msgErrorWhatsapp + hostName)\n"
   ]
  }
 ],
 "metadata": {
  "kernelspec": {
   "display_name": "Python 3 (ipykernel)",
   "language": "python",
   "name": "python3"
  },
  "language_info": {
   "codemirror_mode": {
    "name": "ipython",
    "version": 3
   },
   "file_extension": ".py",
   "mimetype": "text/x-python",
   "name": "python",
   "nbconvert_exporter": "python",
   "pygments_lexer": "ipython3",
   "version": "3.9.12"
  }
 },
 "nbformat": 4,
 "nbformat_minor": 5
}
